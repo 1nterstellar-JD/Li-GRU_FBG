{
 "cells": [
  {
   "cell_type": "code",
   "execution_count": 1,
   "id": "f172a497-f834-4bf4-8396-181152a72651",
   "metadata": {},
   "outputs": [],
   "source": [
    "import torch\n",
    "from torch import nn\n",
    "from torch.utils.data import TensorDataset,Dataset,DataLoader,random_split\n",
    "import numpy as np\n",
    "import time\n",
    "import speechbrain as sb\n",
    "from speechbrain.nnet import RNN\n",
    "import torchkeras\n",
    "import torchmetrics\n",
    "from sklearn.model_selection import train_test_split\n",
    "from torchkeras.kerascallbacks import TensorBoardCallback\n",
    "from tensorboard import notebook\n",
    "torch.set_default_dtype(torch.double)\n",
    "\n",
    "seed = 42\n",
    "torch.manual_seed(seed)\n",
    "np.random.seed(seed)"
   ]
  },
  {
   "cell_type": "code",
   "execution_count": 2,
   "id": "bf4cc679-4a97-4eee-a179-62435d25ad10",
   "metadata": {},
   "outputs": [],
   "source": [
    "x = np.load('data/features_new.npy')\n",
    "y = np.load('data/label_new.npy')\n",
    "\n",
    "y_max = 1595.88\n",
    "y_min = 1508.19\n",
    "normalized_y = (y - y_min) / (y_max - y_min)\n",
    "\n",
    "# x = x.reshape((-1, 512, 1))"
   ]
  },
  {
   "cell_type": "code",
   "execution_count": 3,
   "id": "6f202a0e-d6d5-4a05-8eeb-a634cad2e5e7",
   "metadata": {},
   "outputs": [],
   "source": [
    "small_x = np.zeros((16502, 512))\n",
    "small_y = np.zeros((16502, 2))\n",
    "for i in range(len(x)):\n",
    "    if i % 10 == 0:\n",
    "        small_num = int(i / 10)\n",
    "        small_x[small_num] = x[i]\n",
    "        small_y[small_num] = normalized_y[i]"
   ]
  },
  {
   "cell_type": "code",
   "execution_count": 4,
   "id": "157a002c-0d5d-4d5b-96ff-56c1250256f4",
   "metadata": {},
   "outputs": [],
   "source": [
    "small_x = small_x.reshape((-1, 1, 512))"
   ]
  },
  {
   "cell_type": "code",
   "execution_count": 5,
   "id": "c6863ff7-0e4c-41ce-a2b0-e2a2d4fba2fd",
   "metadata": {},
   "outputs": [
    {
     "name": "stdout",
     "output_type": "stream",
     "text": [
      "(13201, 1, 512)\n",
      "(3301, 1, 512)\n",
      "(13201, 2)\n",
      "(3301, 2)\n"
     ]
    }
   ],
   "source": [
    "x_train, x_test, y_train, y_test = train_test_split(small_x, small_y, test_size=0.2, random_state=42)\n",
    "print(x_train.shape)\n",
    "print(x_test.shape)\n",
    "print(y_train.shape)\n",
    "print(y_test.shape)"
   ]
  },
  {
   "cell_type": "code",
   "execution_count": 6,
   "id": "8a922323-d24e-409a-a44b-a7dfed217f27",
   "metadata": {},
   "outputs": [],
   "source": [
    "ds_train = TensorDataset(torch.tensor(x_train),torch.tensor(y_train))\n",
    "ds_test = TensorDataset(torch.tensor(x_test),torch.tensor(y_test))"
   ]
  },
  {
   "cell_type": "code",
   "execution_count": 7,
   "id": "cc9d5907-d30d-4d44-8592-31574961e1ef",
   "metadata": {},
   "outputs": [],
   "source": [
    "dl_train = DataLoader(ds_train, batch_size=128, shuffle=True)\n",
    "dl_test = DataLoader(ds_test, batch_size=128, shuffle=True)"
   ]
  },
  {
   "cell_type": "code",
   "execution_count": 8,
   "id": "ba57feeb-b98f-4956-81cc-79edb4d464bc",
   "metadata": {},
   "outputs": [],
   "source": [
    "class GRUModel(nn.Module):\n",
    "    def __init__(self, input_shape,\n",
    "                 hidden_size, num_layers,\n",
    "                 output_size, dropout):\n",
    "        super(GRUModel, self).__init__()\n",
    "        self.cnn1 = nn.Conv1d(1, 64, 5)\n",
    "        self.pool1= nn.MaxPool1d(2, 2)\n",
    "        self.cnn2 = nn.Conv1d(64, 64, 5)\n",
    "        self.pool2= nn.MaxPool1d(2, 2)\n",
    "        self.cnn3 = nn.Conv1d(64, 64, 5)\n",
    "        self.pool3= nn.MaxPool1d(2, 2)\n",
    "        self.gru = RNN.LiGRU(input_shape=input_shape,\n",
    "                             hidden_size=hidden_size,\n",
    "                             num_layers=num_layers,\n",
    "                             dropout=dropout)\n",
    "        self.flatten = nn.Flatten()\n",
    "        self.linear = nn.Linear(512, output_size)\n",
    "\n",
    "    def forward(self, x):\n",
    "        out = self.cnn1(x)\n",
    "        out = self.pool1(out)\n",
    "        out = self.cnn2(out)\n",
    "        out = self.pool2(out)\n",
    "        out = self.cnn3(out)\n",
    "        out = self.pool3(out)\n",
    "        # print(\"Conv output shape:\", out.shape)\n",
    "        out = out.permute(0, 2, 1)\n",
    "        # print(\"Conv output shape:\", out.shape)\n",
    "        out, _ = self.gru(out)\n",
    "        out = out[:, -1, :]\n",
    "        out = self.flatten(out)\n",
    "        out = self.linear(out)\n",
    "        return out\n"
   ]
  },
  {
   "cell_type": "code",
   "execution_count": 9,
   "id": "b4ee9265-0197-4c93-9b31-49b10f31f0c6",
   "metadata": {},
   "outputs": [],
   "source": [
    "net = nn.Sequential(\n",
    "    GRUModel(input_shape=(128, 60, 64), hidden_size=512, num_layers=4, output_size=2, dropout=0.2)\n",
    ")\n",
    "\n",
    "compiled_model = torch.jit.script(net)"
   ]
  },
  {
   "cell_type": "code",
   "execution_count": 10,
   "id": "f535cb5f-49da-4075-b324-1ad70e532d20",
   "metadata": {},
   "outputs": [],
   "source": [
    "class RMSELoss(nn.Module):\n",
    "    def __init__(self):\n",
    "        super(RMSELoss, self).__init__()\n",
    "\n",
    "    def forward(self, pred, target):\n",
    "        mse = nn.MSELoss()\n",
    "        loss = torch.sqrt(mse(pred, target))\n",
    "        return loss\n",
    "    \n",
    "criterion = RMSELoss()"
   ]
  },
  {
   "cell_type": "code",
   "execution_count": 11,
   "id": "cd5499c9-20b1-4d50-ade6-9f117fd349bb",
   "metadata": {
    "tags": []
   },
   "outputs": [
    {
     "name": "stdout",
     "output_type": "stream",
     "text": [
      "\u001b[0;31m<<<<<< ⚡️ cuda is used >>>>>>\u001b[0m\n"
     ]
    },
    {
     "data": {
      "image/png": "[encoded data removed]",
      "text/plain": [
       "<Figure size 600x400 with 1 Axes>"
      ]
     },
     "metadata": {},
     "output_type": "display_data"
    },
    {
     "data": {
      "text/html": [
       "\n",
       "<style>\n",
       "    /* background: */\n",
       "    progress::-webkit-progress-bar {background-color: #CDCDCD; width: 100%;}\n",
       "    progress {background-color: #CDCDCD;}\n",
       "\n",
       "    /* value: */\n",
       "    progress::-webkit-progress-value {background-color: #00BFFF  !important;}\n",
       "    progress::-moz-progress-bar {background-color: #00BFFF  !important;}\n",
       "    progress {color: #00BFFF ;}\n",
       "\n",
       "    /* optional */\n",
       "    .progress-bar-interrupted, .progress-bar-interrupted::-webkit-progress-bar {\n",
       "        background: #000000;\n",
       "    }\n",
       "</style>\n"
      ],
      "text/plain": [
       "<IPython.core.display.HTML object>"
      ]
     },
     "metadata": {},
     "output_type": "display_data"
    },
    {
     "data": {
      "text/html": [
       "\n",
       "    <div>\n",
       "      <progress value='100' class='' max='100' style='width:300px; height:20px; vertical-align: middle;'></progress>\n",
       "      [1:31:22]\n",
       "      <br>\n",
       "      ████████████████████100.00% [26/26] [val_loss=0.00400]\n",
       "    </div>\n",
       "    "
      ],
      "text/plain": [
       "<IPython.core.display.HTML object>"
      ]
     },
     "metadata": {},
     "output_type": "display_data"
    }
   ],
   "source": [
    "model = torchkeras.KerasModel(compiled_model,\n",
    "                              loss_fn = criterion,\n",
    "                              optimizer= torch.optim.Adam(compiled_model.parameters(),lr = 1e-4)\n",
    "                             )\n",
    "\n",
    "model.load_ckpt('per_train/checkpoint.pt')\n",
    "\n",
    "dfhistory=model.fit(train_data=dl_train,\n",
    "                    val_data=dl_test,\n",
    "                    epochs=100,\n",
    "                    patience=100,\n",
    "                    ckpt_path='new.pt',\n",
    "                    monitor=\"val_loss\",\n",
    "                    mode=\"min\",\n",
    "                    plot=True, \n",
    "                    callbacks = [TensorBoardCallback(save_dir='runs',\n",
    "                                model_name='cnn_ligru',log_weight=True,log_weight_freq=5)]\n",
    "                   )"
   ]
  },
  {
   "cell_type": "code",
   "execution_count": 14,
   "id": "2377be75-2bb5-4a71-a7b0-82c5948abe38",
   "metadata": {
    "tags": []
   },
   "outputs": [
    {
     "name": "stdout",
     "output_type": "stream",
     "text": [
      "Known TensorBoard instances:\n",
      "  - port 6007: logdir /root/tf-logs (started 5 days, 0:18:28 ago; pid 953)\n",
      "  - port 6007: logdir /root/tf-logs (started 4 days, 4:31:37 ago; pid 694)\n",
      "  - port 6007: logdir /root/tf-logs (started 1 day, 4:29:07 ago; pid 697)\n",
      "  - port 6007: logdir /root/tf-logs (started 4:50:07 ago; pid 692)\n",
      "  - port 6006: logdir ./runs (started 2:02:27 ago; pid 6475)\n"
     ]
    },
    {
     "data": {
      "text/plain": [
       "Reusing TensorBoard on port 6006 (pid 6475), started 2:02:27 ago. (Use '!kill 6475' to kill it.)"
      ]
     },
     "metadata": {},
     "output_type": "display_data"
    },
    {
     "data": {
      "text/html": [
       "\n",
       "      <iframe id=\"tensorboard-frame-5ac365c24f5e8c98\" width=\"100%\" height=\"800\" frameborder=\"0\">\n",
       "      </iframe>\n",
       "      <script>\n",
       "        (function() {\n",
       "          const frame = document.getElementById(\"tensorboard-frame-5ac365c24f5e8c98\");\n",
       "          const url = new URL(\"/\", window.location);\n",
       "          const port = 6006;\n",
       "          if (port) {\n",
       "            url.port = port;\n",
       "          }\n",
       "          frame.src = url;\n",
       "        })();\n",
       "      </script>\n",
       "    "
      ],
      "text/plain": [
       "<IPython.core.display.HTML object>"
      ]
     },
     "metadata": {},
     "output_type": "display_data"
    }
   ],
   "source": [
    "notebook.list() \n",
    "notebook.start(\"--logdir ./runs\")"
   ]
  },
  {
   "cell_type": "code",
   "execution_count": null,
   "id": "6f341b26-c4b2-40ee-91c0-72aae890fed8",
   "metadata": {},
   "outputs": [],
   "source": []
  }
 ],
 "metadata": {
  "kernelspec": {
   "display_name": "Python 3 (ipykernel)",
   "language": "python",
   "name": "python3"
  },
  "language_info": {
   "codemirror_mode": {
    "name": "ipython",
    "version": 3
   },
   "file_extension": ".py",
   "mimetype": "text/x-python",
   "name": "python",
   "nbconvert_exporter": "python",
   "pygments_lexer": "ipython3",
   "version": "3.8.10"
  }
 },
 "nbformat": 4,
 "nbformat_minor": 5
}
